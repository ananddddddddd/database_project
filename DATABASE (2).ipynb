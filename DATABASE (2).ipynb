{
 "cells": [
  {
   "cell_type": "code",
   "execution_count": 3,
   "id": "38fc90fc",
   "metadata": {},
   "outputs": [],
   "source": [
    "import sqlite3\n",
    "#import pymongo\n",
    "import pandas as pd\n",
    "import matplotlib.pyplot as plt\n",
    "import datetime\n",
    "from dateutil.relativedelta import relativedelta, MO\n",
    "from matplotlib import colors\n",
    "import numpy as np\n",
    "import ipywidgets as widgets\n",
    "from IPython.display import display, clear_output\n"
   ]
  },
  {
   "cell_type": "code",
   "execution_count": 4,
   "id": "4be09f07",
   "metadata": {},
   "outputs": [],
   "source": [
    "#doc_db_clinic = conn_doc_db[\"doc_db_clinic\"]\n",
    "#print(doc_db_clinic.list_collection_names())\n",
    "#doc_db_clinic_med_records = doc_db_clinic[\"med_records\"]\n",
    "\n",
    "#Importing the library to connect to the database. \n",
    "import sqlite3 \n",
    "#Creating a connection to the database. \n",
    "conn = sqlite3.connect('ehr.db') \n",
    "#A cursor holds resources for a query. Several cursors can be created for a connection. \n",
    "cur = conn.cursor()\n"
   ]
  },
  {
   "cell_type": "code",
   "execution_count": 5,
   "id": "97de70b2",
   "metadata": {},
   "outputs": [
    {
     "data": {
      "text/plain": [
       "<sqlite3.Cursor at 0x1b763674340>"
      ]
     },
     "execution_count": 5,
     "metadata": {},
     "output_type": "execute_result"
    }
   ],
   "source": [
    "cur.execute(\"PRAGMA foreign_keys = ON\")"
   ]
  },
  {
   "cell_type": "code",
   "execution_count": 6,
   "id": "d98f67cf",
   "metadata": {},
   "outputs": [
    {
     "data": {
      "text/plain": [
       "<sqlite3.Cursor at 0x1b763674340>"
      ]
     },
     "execution_count": 6,
     "metadata": {},
     "output_type": "execute_result"
    }
   ],
   "source": [
    "createTblPatient = \"CREATE TABLE PATIENT ( \" + \\\n",
    "\"PATIENT_ID varchar(100) NOT NULL PRIMARY KEY, \" + \\\n",
    "\"FIRST_NAME varchar(255) NOT NULL, \" + \\\n",
    "\"LAST_NAME varchar(255) NOT NULL, \" + \\\n",
    "\"AGE integer NOT NULL, \" + \\\n",
    "\"GENDER varchar(100) NOT NULL, \" + \\\n",
    "\"POST_CODE varchar(100) NOT NULL, \" + \\\n",
    "\"MARTIAL_STATUS varchar(100) NOT NULL, \" + \\\n",
    "\"ANNUAL_INCOME integer NOT NULL, \" + \\\n",
    "\"BIRTH_YEAR integer NOT NULL, \" + \\\n",
    "\"PHONE_NUMBER integer NOT NULL); \"\n",
    "\n",
    "cur.execute(createTblPatient)"
   ]
  },
  {
   "cell_type": "code",
   "execution_count": 7,
   "id": "6265e69c",
   "metadata": {},
   "outputs": [
    {
     "data": {
      "text/plain": [
       "<sqlite3.Cursor at 0x1b763674340>"
      ]
     },
     "execution_count": 7,
     "metadata": {},
     "output_type": "execute_result"
    }
   ],
   "source": [
    "createTblEncounter = \"CREATE TABLE ENCOUNTER ( \" + \\\n",
    "\"ENCOUNTER_ID varchar(100) NOT NULL PRIMARY KEY , \" + \\\n",
    "\"PATIENT_ID varchar(100) NOT NULL , \" + \\\n",
    "\"DOCTOR_ID varchar(100) NOT NULL, \" + \\\n",
    "\"ADMISSION_STATUS varchar(200) NOT NULL, \" + \\\n",
    "\"BP_SYSTOLIC integer NOT NULL, \" + \\\n",
    "\"BP_DIASTOLIC integer NOT NULL, \" + \\\n",
    "\"PULSE integer NOT NULL, \" + \\\n",
    "\"HEIGHT integer NOT NULL, \" + \\\n",
    "\"WEIGHT integer NOT NULL, \" + \\\n",
    "\"BMI integer NOT NULL, FOREIGN KEY(PATIENT_ID) references PATIENT(PATIENT_ID)on Update CASCADE on Delete Set Null, FOREIGN KEY(DOCTOR_ID) references HCP(DOCTOR_ID)on Update CASCADE on Delete Set Null); \"\n",
    "\n",
    "cur.execute(createTblEncounter)\n"
   ]
  },
  {
   "cell_type": "code",
   "execution_count": 8,
   "id": "449386a4",
   "metadata": {},
   "outputs": [
    {
     "data": {
      "text/plain": [
       "<sqlite3.Cursor at 0x1b763674340>"
      ]
     },
     "execution_count": 8,
     "metadata": {},
     "output_type": "execute_result"
    }
   ],
   "source": [
    "createTblDiagnosis = \"CREATE TABLE DIAGNOSIS ( \" + \\\n",
    "\"DIAGNOSIS_ID varchar(100) NOT NULL PRIMARY KEY, \" + \\\n",
    "\"PATIENT_ID varchar(100) NOT NULL, \" + \\\n",
    "\"ENCOUNTER_ID varchar(100) NOT NULL, \" + \\\n",
    "\"DIAGNOSIS_CODE varchar(100) NOT NULL, \" + \\\n",
    "\"DIAGNOSIS_DESCRIPTION varchar(2000) NOT NULL, \" + \\\n",
    "\"DIAGNOSIS_DATE date NOT NULL, \" + \\\n",
    "\"DIAGNOSIS_CODE_TYPE varchar(100) NOT NULL, FOREIGN KEY(PATIENT_ID) references PATIENT(PATIENT_ID)on Update CASCADE on Delete Set Null, FOREIGN KEY(ENCOUNTER_ID) references ENCOUNTER(ENCOUNTER_ID)on Update CASCADE on Delete Set Null); \"\n",
    "\n",
    "cur.execute(createTblDiagnosis)"
   ]
  },
  {
   "cell_type": "code",
   "execution_count": 9,
   "id": "6ecfc0ef",
   "metadata": {},
   "outputs": [
    {
     "data": {
      "text/plain": [
       "<sqlite3.Cursor at 0x1b763674340>"
      ]
     },
     "execution_count": 9,
     "metadata": {},
     "output_type": "execute_result"
    }
   ],
   "source": [
    "createTblProcedure = \"CREATE TABLE PROCEDURE ( \" + \\\n",
    "\"PROCEDURE_ID varchar(100) NOT NULL PRIMARY KEY, \" + \\\n",
    "\"PATIENT_ID varchar(100) NOT NULL, \" + \\\n",
    "\"ENCOUNTER_ID varchar(100) NOT NULL, \" + \\\n",
    "\"PROCEDURE_CODE varchar(100) NOT NULL, \" + \\\n",
    "\"PROCEDURE_DESCRIPTION varchar(2000) NOT NULL, \" + \\\n",
    "\"PROCEDURE_START_DATE date NOT NULL, \" + \\\n",
    "\"PROCEDURE_END_DATE date NOT NULL, \" + \\\n",
    "\"PROCEDURE_CODE_TYPE varchar(100) NOT NULL, FOREIGN KEY(PATIENT_ID) references PATIENT(PATIENT_ID)on Update CASCADE on Delete Set Null, FOREIGN KEY(ENCOUNTER_ID) references ENCOUNTER(ENCOUNTER_ID)on Update CASCADE on Delete Set Null); \"\n",
    "\n",
    "cur.execute(createTblProcedure)"
   ]
  },
  {
   "cell_type": "code",
   "execution_count": 182,
   "id": "6f4d5233",
   "metadata": {},
   "outputs": [
    {
     "data": {
      "text/plain": [
       "<sqlite3.Cursor at 0x132d91f0420>"
      ]
     },
     "execution_count": 182,
     "metadata": {},
     "output_type": "execute_result"
    }
   ],
   "source": [
    "createTblHCP = \"CREATE TABLE HCP ( \" + \\\n",
    "\"DOCTOR_ID varchar(100) NOT NULL PRIMARY KEY, \" + \\\n",
    "\"DOCTOR_NAME varchar(100) NOT NULL, \" + \\\n",
    "\"DEPARTMENT varchar(200) NOT NULL \" + \\\n",
    "\"); \"\n",
    "\n",
    "cur.execute(createTblHCP)"
   ]
  },
  {
   "cell_type": "code",
   "execution_count": 191,
   "id": "a0f6aea7",
   "metadata": {},
   "outputs": [
    {
     "data": {
      "text/plain": [
       "<sqlite3.Cursor at 0x132d91f0420>"
      ]
     },
     "execution_count": 191,
     "metadata": {},
     "output_type": "execute_result"
    }
   ],
   "source": [
    "createTblBills = \"CREATE TABLE BILLS ( \" + \\\n",
    "\"BILL_NO varchar(100) NOT NULL PRIMARY KEY, \" + \\\n",
    "\"PATIENT_ID varchar(100) NOT NULL, \" + \\\n",
    "\"ENCOUNTER_ID varchar(100) NOT NULL, \" + \\\n",
    "\"TOTAL_COST integer NOT NULL, \" + \\\n",
    "\"NET_COST integer NOT NULL, \" + \\\n",
    "\"INSURANCE_TYPE varchar(100) NOT NULL, FOREIGN KEY(PATIENT_ID) references PATIENT(PATIENT_ID)on Update CASCADE on Delete Set Null, FOREIGN KEY(ENCOUNTER_ID) references ENCOUNTER(ENCOUNTER_ID)on Update CASCADE on Delete Set Null); \"\n",
    "\n",
    "cur.execute(createTblBills)"
   ]
  },
  {
   "cell_type": "code",
   "execution_count": 193,
   "id": "3f00ac89",
   "metadata": {},
   "outputs": [
    {
     "data": {
      "text/plain": [
       "<sqlite3.Cursor at 0x132d91f0420>"
      ]
     },
     "execution_count": 193,
     "metadata": {},
     "output_type": "execute_result"
    }
   ],
   "source": [
    "createTblPharmacy = \"CREATE TABLE PHARMACY ( \" + \\\n",
    "\"PURCHASE_ID varchar(100) NOT NULL PRIMARY KEY, \" + \\\n",
    "\"PATIENT_ID varchar(100) NOT NULL, \" + \\\n",
    "\"ENCOUNTER_ID varchar(100) NOT NULL, \" + \\\n",
    "\"DRUG_CODE varchar(100) NOT NULL, \" + \\\n",
    "\"DRUG_NAME varchar(200) NOT NULL, \" + \\\n",
    "\"DOSAGE varchar(100) NOT NULL, \" + \\\n",
    "\"FREQUENCY varchar(100) NOT NULL, FOREIGN KEY(PATIENT_ID) references PATIENT(PATIENT_ID)on Update CASCADE on Delete Set Null, FOREIGN KEY(ENCOUNTER_ID) references ENCOUNTER(ENCOUNTER_ID)on Update CASCADE on Delete Set Null); \"\n",
    "\n",
    "cur.execute(createTblPharmacy)"
   ]
  },
  {
   "cell_type": "markdown",
   "id": "a9734731",
   "metadata": {},
   "source": [
    "#### Inserting values into tables"
   ]
  },
  {
   "cell_type": "code",
   "execution_count": 183,
   "id": "c8c0e464",
   "metadata": {},
   "outputs": [
    {
     "name": "stdout",
     "output_type": "stream",
     "text": [
      "('p01', 'George', 'Thomas', 26, 'Male', 'EX41AU', 'Married', 28000, 1996, 7918276264)\n",
      "('p02', 'Thomass', 'Shelby', 36, 'Male', 'Bl00AE', 'Married', 60000, 1986, 7403023467)\n",
      "('p03', 'Arthur', 'Shelby', 47, 'Male', 'Bl00AX', 'Married', 54000, 1975, 8045312789)\n",
      "('p04', 'Polly', 'Grey', 52, 'Female', 'Bl00AD', 'Single', 43000, 1970, 7919274364)\n",
      "('p05', 'Jay', 'Prichet', 72, 'Male', 'PL00BC', 'Married', 70000, 1950, 7403023467)\n",
      "('p06', 'Gloria', 'Sebastin', 45, 'Female', 'EX00BT', 'Married', 43000, 1977, 80125312789)\n",
      "('p07', 'Cameron', 'Oscar', 44, 'Male', 'LO41AU', 'Single', 32000, 1978, 7888271209)\n",
      "('p08', 'Claire', 'Alex', 40, 'Female', 'BO00MT', 'Married', 60000, 1974, 6409023476)\n",
      "('p09', 'Marius', 'Tkozc', 29, 'Male', 'EX43AX', 'Single', 59000, 1993, 78945312789)\n",
      "('p10', 'Justine', 'leo', 22, 'Male', 'Bl00AR', 'Single', 23000, 2000, 7561925836)\n",
      "('p11', 'John', 'Cena', 48, 'Male', 'SW00BT', 'Married', 65000, 1974, 6403023742)\n",
      "('p12', 'Rey', 'Mysterio', 60, 'Male', 'CA00TE', 'Married', 43000, 1954, 7303312798)\n",
      "('p13', 'Dunphy', 'Luke', 46, 'Male', 'BR00AX', 'Married', 54000, 1976, 7445412784)\n",
      "('p14', 'Richard', 'Dare', 53, 'Male', 'AA11AD', 'Single', 43000, 1969, 9919274366)\n",
      "('p15', 'Lenin', 'Archimedes', 71, 'Male', 'OX35BC', 'Married', 70000, 1951, 8403023461)\n",
      "('p16', 'Ronaldo', 'Trump', 49, 'Male', 'BI11BX', 'Married', 43000, 1973, 6525312700)\n",
      "('p17', 'Shetty', 'shilpa', 33, 'Female', 'LU41AU', 'Single', 32000, 1989, 7778271255)\n",
      "('p18', 'Sunny', 'Leone', 41, 'Female', 'BL00MX', 'Married', 60000, 1981, 6459023474)\n",
      "('p19', 'Mia', 'khalifa', 25, 'Female', 'EX43AT', 'Single', 55000, 1997, 88945312774)\n",
      "('p20', 'Harry', 'Styles', 24, 'Male', 'Bl00AR', 'Single', 33000, 1998, 7211925836)\n",
      "('p21', 'John', 'Sins', 61, 'Male', 'WS00BT', 'Married', 64000, 1953, 6663023741)\n",
      "('p22', 'Letty', 'Diesel', 52, 'Female', 'CA00TE', 'Married', 43000, 1970, 7733312714)\n",
      "('p23', 'Samuel', 'Shankar', 44, 'Male', 'AL00AX', 'Married', 54000, 1978, 6445412777)\n",
      "('p24', 'Dwayne', 'Johnson', 54, 'Male', 'NC11AD', 'Single', 93000, 1968, 875474368)\n",
      "('p25', 'Paul', 'Walker', 71, 'Male', 'OX35BC', 'Married', 76000, 1943, 8443023463)\n",
      "('p26', 'Rishi', 'Sunakk', 80, 'Male', 'BO11BT', 'Married', 43000, 1934, 6525312700)\n",
      "('p27', 'Boriss', 'Thomsan', 24, 'Male', 'LN41AU', 'Single', 12000, 1998, 7778881253)\n",
      "('p28', 'Nayanthara', 'david', 39, 'Female', 'ND00MR', 'Married', 45500, 1983, 6559023471)\n",
      "('p29', 'Wiz', 'khashim', 37, 'Male', 'WX43AT', 'Single', 25000, 1971, 88567312774)\n",
      "('p30', 'Napoelean', 'Rambo', 92, 'Male', 'BE00AR', 'Single', 76000, 1930, 8999925839)\n"
     ]
    }
   ],
   "source": [
    "qry=\"\"\"insert into patient (PATIENT_ID, FIRST_NAME, LAST_NAME, AGE, GENDER, POST_CODE, MARTIAL_STATUS, ANNUAL_INCOME, BIRTH_YEAR, PHONE_NUMBER)  \n",
    "values \n",
    "(\"p01\", \"George\", \"Thomas\", 26, \"Male\", \"EX41AU\", \"Married\", 28000, 1996, 7918276264),\n",
    "(\"p02\", \"Thomass\", \"Shelby\", 36, \"Male\", \"Bl00AE\", \"Married\", 60000, 1986, 7403023467),\n",
    "(\"p03\", \"Arthur\", \"Shelby\", 47, \"Male\", \"Bl00AX\", \"Married\", 54000, 1975, 8045312789),\n",
    "(\"p04\", \"Polly\", \"Grey\", 52, \"Female\", \"Bl00AD\", \"Single\", 43000, 1970, 7919274364),\n",
    "(\"p05\", \"Jay\", \"Prichet\", 72, \"Male\", \"PL00BC\", \"Married\", 70000, 1950, 7403023467),\n",
    "(\"p06\", \"Gloria\", \"Sebastin\", 45, \"Female\", \"EX00BT\", \"Married\", 43000, 1977, 80125312789),\n",
    "(\"p07\", \"Cameron\", \"Oscar\", 44, \"Male\", \"LO41AU\", \"Single\", 32000, 1978, 7888271209),\n",
    "(\"p08\", \"Claire\", \"Alex\", 40, \"Female\", \"BO00MT\", \"Married\", 60000, 1974, 6409023476),\n",
    "(\"p09\", \"Marius\", \"Tkozc\", 29, \"Male\", \"EX43AX\", \"Single\", 59000, 1993, 78945312789),\n",
    "(\"p10\", \"Justine\", \"leo\", 22, \"Male\", \"Bl00AR\", \"Single\", 23000, 2000, 7561925836),\n",
    "(\"p11\", \"John\", \"Cena\", 48, \"Male\", \"SW00BT\", \"Married\", 65000, 1974, 6403023742),\n",
    "(\"p12\", \"Rey\", \"Mysterio\", 60, \"Male\", \"CA00TE\", \"Married\", 43000, 1954, 7303312798),\n",
    "(\"p13\", \"Dunphy\", \"Luke\", 46, \"Male\", \"BR00AX\", \"Married\", 54000, 1976, 7445412784),\n",
    "(\"p14\", \"Richard\", \"Dare\", 53, \"Male\", \"AA11AD\", \"Single\", 43000, 1969, 9919274366),\n",
    "(\"p15\", \"Lenin\", \"Archimedes\", 71, \"Male\", \"OX35BC\", \"Married\", 70000, 1951, 8403023461),\n",
    "(\"p16\", \"Ronaldo\", \"Trump\", 49, \"Male\", \"BI11BX\", \"Married\", 43000, 1973, 6525312700),\n",
    "(\"p17\", \"Shetty\", \"shilpa\", 33, \"Female\", \"LU41AU\", \"Single\", 32000, 1989, 7778271255),\n",
    "(\"p18\", \"Sunny\", \"Leone\", 41, \"Female\", \"BL00MX\", \"Married\", 60000, 1981, 6459023474),\n",
    "(\"p19\", \"Mia\", \"khalifa\", 25, \"Female\", \"EX43AT\", \"Single\", 55000, 1997, 88945312774),\n",
    "(\"p20\", \"Harry\", \"Styles\", 24, \"Male\", \"Bl00AR\", \"Single\", 33000, 1998, 7211925836),\n",
    "(\"p21\", \"John\", \"Sins\", 61, \"Male\", \"WS00BT\", \"Married\", 64000, 1953, 6663023741),\n",
    "(\"p22\", \"Letty\", \"Diesel\", 52, \"Female\", \"CA00TE\", \"Married\", 43000, 1970, 7733312714),\n",
    "(\"p23\", \"Samuel\", \"Shankar\", 44, \"Male\", \"AL00AX\", \"Married\", 54000, 1978, 6445412777),\n",
    "(\"p24\", \"Dwayne\", \"Johnson\", 54, \"Male\", \"NC11AD\", \"Single\", 93000, 1968, 875474368),\n",
    "(\"p25\", \"Paul\", \"Walker\", 71, \"Male\", \"OX35BC\", \"Married\", 76000, 1943, 8443023463),\n",
    "(\"p26\", \"Rishi\", \"Sunakk\", 80, \"Male\", \"BO11BT\", \"Married\", 43000, 1934, 6525312700),\n",
    "(\"p27\", \"Boriss\", \"Thomsan\", 24, \"Male\", \"LN41AU\", \"Single\", 12000, 1998, 7778881253),\n",
    "(\"p28\", \"Nayanthara\", \"david\", 39, \"Female\", \"ND00MR\", \"Married\", 45500, 1983, 6559023471),\n",
    "(\"p29\", \"Wiz\", \"khashim\", 37, \"Male\", \"WX43AT\", \"Single\", 25000, 1971, 88567312774),\n",
    "(\"p30\", \"Napoelean\", \"Rambo\", 92, \"Male\", \"BE00AR\", \"Single\", 76000, 1930, 8999925839)\n",
    ";\"\"\"\n",
    "\n",
    "\n",
    "cur.execute(qry)\n",
    "\n",
    "# Commit data to database\n",
    "conn.commit()\n",
    "\n",
    "\n",
    "# Prepare the query String\n",
    "qry=\"select * from patient;\"\n",
    "\n",
    "# Execute query on SQLite\n",
    "cur.execute(qry)\n",
    "\n",
    "# Display rows\n",
    "rows=cur.fetchall()\n",
    "\n",
    "for row in rows:\n",
    "    print (row)\n"
   ]
  },
  {
   "cell_type": "code",
   "execution_count": 185,
   "id": "ed4acada",
   "metadata": {},
   "outputs": [
    {
     "name": "stdout",
     "output_type": "stream",
     "text": [
      "('ENC0001', 'p01', 'DOC001', 'Outpatient', 120, 80, 75, 180, 72, 20.8)\n",
      "('ENC0002', 'p01', 'DOC001', 'Inpatient', 130, 80, 75, 160, 65, 20.8)\n",
      "('ENC0003', 'p02', 'DOC001', 'Emergency', 140, 90, 95, 200, 155, 30.8)\n",
      "('ENC0004', 'p02', 'DOC005', 'Emergency', 140, 90, 50, 182, 73, 20.8)\n",
      "('ENC0005', 'p03', 'DOC005', 'Inpatient', 120, 80, 75, 170, 75, 20.6)\n",
      "('ENC0006', 'p03', 'DOC005', 'Inpatient', 120, 80, 75, 160, 75, 20.4)\n",
      "('ENC0007', 'p03', 'DOC002', 'Inpatient', 110, 80, 75, 182, 75, 20.1)\n",
      "('ENC0008', 'p04', 'DOC001', 'Inpatient', 110, 85, 75, 190, 77, 20.1)\n",
      "('ENC0009', 'p05', 'DOC002', 'Inpatient', 110, 80, 75, 200, 79, 20.3)\n",
      "('ENC0010', 'p05', 'DOC001', 'Inpatient', 120, 85, 75, 180, 139, 29.3)\n",
      "('ENC0011', 'p06', 'DOC003', 'Outpatient', 120, 85, 75, 155, 75, 24.8)\n",
      "('ENC0012', 'p06', 'DOC001', 'Outpatient', 120, 80, 75, 150, 87, 25.8)\n",
      "('ENC0013', 'p07', 'DOC002', 'Outpatient', 120, 80, 75, 170, 89, 25.7)\n",
      "('ENC0014', 'p07', 'DOC003', 'Inpatient', 120, 80, 75, 156, 60, 20.8)\n",
      "('ENC0015', 'p07', 'DOC003', 'Inpatient', 110, 80, 75, 178, 75, 20.8)\n",
      "('ENC0016', 'p08', 'DOC004', 'Inpatient', 120, 80, 75, 167, 63, 20.8)\n",
      "('ENC0017', 'p09', 'DOC004', 'Outpatient', 120, 80, 75, 180, 115, 27.8)\n",
      "('ENC0018', 'p10', 'DOC004', 'Outpatient', 120, 80, 75, 180, 75, 26.8)\n",
      "('ENC0019', 'p10', 'DOC001', 'Outpatient', 120, 80, 75, 180, 56, 20.8)\n",
      "('ENC0020', 'p11', 'DOC001', 'Inpatient', 120, 80, 75, 181, 67, 20.8)\n",
      "('ENC0021', 'p12', 'DOC001', 'Emergency', 140, 90, 60, 182, 59, 20.8)\n",
      "('ENC0022', 'p13', 'DOC005', 'Emergency', 130, 80, 65, 186, 97, 25.8)\n",
      "('ENC0023', 'p13', 'DOC005', 'Inpatient', 120, 80, 75, 166, 75, 20.8)\n",
      "('ENC0024', 'p14', 'DOC005', 'Inpatient', 110, 85, 75, 156, 89, 20.8)\n",
      "('ENC0025', 'p15', 'DOC002', 'Inpatient', 110, 85, 75, 187, 100, 24.8)\n",
      "('ENC0026', 'p16', 'DOC002', 'Inpatient', 110, 80, 75, 178, 75, 20.8)\n",
      "('ENC0027', 'p17', 'DOC001', 'Emergency', 125, 85, 65, 146, 172, 31)\n",
      "('ENC0028', 'p18', 'DOC003', 'Inpatient', 120, 80, 75, 180, 75, 20.8)\n",
      "('ENC0029', 'p19', 'DOC004', 'Outpatient', 120, 80, 75, 180, 75, 20.8)\n",
      "('ENC0030', 'p19', 'DOC004', 'Inpatient', 120, 80, 75, 180, 75, 20.8)\n",
      "('ENC0031', 'p20', 'DOC004', 'Inpatient', 120, 80, 75, 180, 95, 27.8)\n",
      "('ENC0032', 'p20', 'DOC005', 'Emergency', 140, 90, 70, 180, 98, 26.9)\n",
      "('ENC0033', 'p21', 'DOC003', 'Inpatient', 120, 80, 75, 170, 75, 24.8)\n",
      "('ENC0034', 'p22', 'DOC003', 'Inpatient', 110, 80, 75, 160, 78, 23.6)\n",
      "('ENC0035', 'p23', 'DOC003', 'Inpatient', 125, 80, 75, 150, 75, 20.4)\n",
      "('ENC0036', 'p23', 'DOC004', 'Inpatient', 125, 85, 75, 147, 72, 21.8)\n",
      "('ENC0037', 'p24', 'DOC004', 'Inpatient', 125, 80, 75, 186, 75, 20.9)\n",
      "('ENC0038', 'p25', 'DOC004', 'Inpatient', 120, 80, 75, 180, 65, 20.7)\n",
      "('ENC0039', 'p26', 'DOC005', 'Emergency', 120, 80, 70, 183, 59, 20.8)\n",
      "('ENC0040', 'p27', 'DOC005', 'Inpatient', 120, 80, 75, 180, 60, 20.8)\n",
      "('ENC0041', 'p27', 'DOC006', 'Outpatient', 120, 80, 75, 150, 75, 20.8)\n",
      "('ENC0042', 'p27', 'DOC006', 'Inpatient', 120, 80, 75, 200, 75, 28.8)\n",
      "('ENC0043', 'p28', 'DOC004', 'Outpatient', 120, 80, 75, 189, 75, 29.7)\n",
      "('ENC0044', 'p28', 'DOC004', 'Inpatient', 120, 80, 75, 188, 75, 20.8)\n",
      "('ENC0045', 'p28', 'DOC002', 'Emergency', 120, 85, 70, 187, 75, 20.8)\n",
      "('ENC0046', 'p28', 'DOC002', 'Inpatient', 120, 80, 75, 150, 68, 20.8)\n",
      "('ENC0047', 'p29', 'DOC004', 'Outpatient', 120, 80, 75, 140, 69, 20.8)\n",
      "('ENC0048', 'p29', 'DOC004', 'Inpatient', 120, 80, 75, 183, 75, 20.8)\n",
      "('ENC0049', 'p30', 'DOC002', 'Emergency', 140, 90, 65, 182, 98, 20.8)\n",
      "('ENC0050', 'p30', 'DOC002', 'Inpatient', 120, 80, 75, 161, 97, 24.8)\n"
     ]
    }
   ],
   "source": [
    "qry=\"\"\"insert into ENCOUNTER (PATIENT_ID, ENCOUNTER_ID, DOCTOR_ID, ADMISSION_STATUS, BP_SYSTOLIC, BP_DIASTOLIC, PULSE, HEIGHT, WEIGHT, BMI)  \n",
    "values \n",
    "(\"p01\", \"ENC0001\", \"DOC001\", \"Outpatient\", \"120\", \"80\", \"75\", 180, 72, 20.8),\n",
    "(\"p01\", \"ENC0002\", \"DOC001\", \"Inpatient\", \"130\", \"80\", \"75\", 160, 65, 20.8),\n",
    "(\"p02\", \"ENC0003\", \"DOC001\", \"Emergency\", \"140\", \"90\", \"95\", 200, 155, 30.8),\n",
    "(\"p02\", \"ENC0004\", \"DOC005\", \"Emergency\", \"140\", \"90\", \"50\", 182, 73, 20.8),\n",
    "(\"p03\", \"ENC0005\", \"DOC005\", \"Inpatient\", \"120\", \"80\", \"75\", 170, 75, 20.6),\n",
    "(\"p03\", \"ENC0006\", \"DOC005\", \"Inpatient\", \"120\", \"80\", \"75\", 160, 75, 20.4),\n",
    "(\"p03\", \"ENC0007\", \"DOC002\", \"Inpatient\", \"110\", \"80\", \"75\", 182, 75, 20.1),\n",
    "(\"p04\", \"ENC0008\", \"DOC001\", \"Inpatient\", \"110\", \"85\", \"75\", 190, 77, 20.1),\n",
    "(\"p05\", \"ENC0009\", \"DOC002\", \"Inpatient\", \"110\", \"80\", \"75\", 200, 79, 20.3),\n",
    "(\"p05\", \"ENC0010\", \"DOC001\", \"Inpatient\", \"120\", \"85\", \"75\", 180, 139, 29.3),\n",
    "(\"p06\", \"ENC0011\", \"DOC003\", \"Outpatient\", \"120\", \"85\", \"75\", 155, 75, 24.8),\n",
    "(\"p06\", \"ENC0012\", \"DOC001\", \"Outpatient\", \"120\", \"80\", \"75\", 150, 87, 25.8),\n",
    "(\"p07\", \"ENC0013\", \"DOC002\", \"Outpatient\", \"120\", \"80\", \"75\", 170, 89, 25.7),\n",
    "(\"p07\", \"ENC0014\", \"DOC003\", \"Inpatient\", \"120\", \"80\", \"75\", 156, 60, 20.8),\n",
    "(\"p07\", \"ENC0015\", \"DOC003\", \"Inpatient\", \"110\", \"80\", \"75\", 178, 75, 20.8),\n",
    "(\"p08\", \"ENC0016\", \"DOC004\", \"Inpatient\", \"120\", \"80\", \"75\", 167, 63, 20.8),\n",
    "(\"p09\", \"ENC0017\", \"DOC004\", \"Outpatient\", \"120\", \"80\", \"75\", 180, 115, 27.8),\n",
    "(\"p10\", \"ENC0018\", \"DOC004\", \"Outpatient\", \"120\", \"80\", \"75\", 180, 75, 26.8),\n",
    "(\"p10\", \"ENC0019\", \"DOC001\", \"Outpatient\", \"120\", \"80\", \"75\", 180, 56, 20.8),\n",
    "(\"p11\", \"ENC0020\", \"DOC001\", \"Inpatient\", \"120\", \"80\", \"75\", 181, 67, 20.8),\n",
    "(\"p12\", \"ENC0021\", \"DOC001\", \"Emergency\", \"140\", \"90\", \"60\", 182, 59, 20.8),\n",
    "(\"p13\", \"ENC0022\", \"DOC005\", \"Emergency\", \"130\", \"80\", \"65\", 186, 97, 25.8),\n",
    "(\"p13\", \"ENC0023\", \"DOC005\", \"Inpatient\", \"120\", \"80\", \"75\", 166, 75, 20.8),\n",
    "(\"p14\", \"ENC0024\", \"DOC005\", \"Inpatient\", \"110\", \"85\", \"75\", 156, 89, 20.8),\n",
    "(\"p15\", \"ENC0025\", \"DOC002\", \"Inpatient\", \"110\", \"85\", \"75\", 187, 100, 24.8),\n",
    "(\"p16\", \"ENC0026\", \"DOC002\", \"Inpatient\", \"110\", \"80\", \"75\", 178, 75, 20.8),\n",
    "(\"p17\", \"ENC0027\", \"DOC001\", \"Emergency\", \"125\", \"85\", \"65\", 146, 172, 31),\n",
    "(\"p18\", \"ENC0028\", \"DOC003\", \"Inpatient\", \"120\", \"80\", \"75\", 180, 75, 20.8),\n",
    "(\"p19\", \"ENC0029\", \"DOC004\", \"Outpatient\", \"120\", \"80\", \"75\", 180, 75, 20.8),\n",
    "(\"p19\", \"ENC0030\", \"DOC004\", \"Inpatient\", \"120\", \"80\", \"75\", 180, 75, 20.8),\n",
    "(\"p20\", \"ENC0031\", \"DOC004\", \"Inpatient\", \"120\", \"80\", \"75\", 180, 95, 27.8),\n",
    "(\"p20\", \"ENC0032\", \"DOC005\", \"Emergency\", \"140\", \"90\", \"70\", 180, 98, 26.9),\n",
    "(\"p21\", \"ENC0033\", \"DOC003\", \"Inpatient\", \"120\", \"80\", \"75\", 170, 75, 24.8),\n",
    "(\"p22\", \"ENC0034\", \"DOC003\", \"Inpatient\", \"110\", \"80\", \"75\", 160, 78, 23.6),\n",
    "(\"p23\", \"ENC0035\", \"DOC003\", \"Inpatient\", \"125\", \"80\", \"75\", 150, 75, 20.4),\n",
    "(\"p23\", \"ENC0036\", \"DOC004\", \"Inpatient\", \"125\", \"85\", \"75\", 147, 72, 21.8),\n",
    "(\"p24\", \"ENC0037\", \"DOC004\", \"Inpatient\", \"125\", \"80\", \"75\", 186, 75, 20.9),\n",
    "(\"p25\", \"ENC0038\", \"DOC004\", \"Inpatient\", \"120\", \"80\", \"75\", 180, 65, 20.7),\n",
    "(\"p26\", \"ENC0039\", \"DOC005\", \"Emergency\", \"120\", \"80\", \"70\", 183, 59, 20.8),\n",
    "(\"p27\", \"ENC0040\", \"DOC005\", \"Inpatient\", \"120\", \"80\", \"75\", 180, 60, 20.8),\n",
    "(\"p27\", \"ENC0041\", \"DOC006\", \"Outpatient\", \"120\", \"80\", \"75\", 150, 75, 20.8),\n",
    "(\"p27\", \"ENC0042\", \"DOC006\", \"Inpatient\", \"120\", \"80\", \"75\", 200, 75, 28.8),\n",
    "(\"p28\", \"ENC0043\", \"DOC004\", \"Outpatient\", \"120\", \"80\", \"75\", 189, 75, 29.7),\n",
    "(\"p28\", \"ENC0044\", \"DOC004\", \"Inpatient\", \"120\", \"80\", \"75\", 188, 75, 20.8),\n",
    "(\"p28\", \"ENC0045\", \"DOC002\", \"Emergency\", \"120\", \"85\", \"70\", 187, 75, 20.8),\n",
    "(\"p28\", \"ENC0046\", \"DOC002\", \"Inpatient\", \"120\", \"80\", \"75\", 150, 68, 20.8),\n",
    "(\"p29\", \"ENC0047\", \"DOC004\", \"Outpatient\", \"120\", \"80\", \"75\", 140, 69, 20.8),\n",
    "(\"p29\", \"ENC0048\", \"DOC004\", \"Inpatient\", \"120\", \"80\", \"75\", 183, 75, 20.8),\n",
    "(\"p30\", \"ENC0049\", \"DOC002\", \"Emergency\", \"140\", \"90\", \"65\", 182, 98, 20.8),\n",
    "(\"p30\", \"ENC0050\", \"DOC002\", \"Inpatient\", \"120\", \"80\", \"75\", 161, 97, 24.8)\n",
    ";\"\"\"\n",
    "\n",
    "cur.execute(qry)\n",
    "\n",
    "# Commit data to database\n",
    "conn.commit()\n",
    "\n",
    "\n",
    "# Prepare the query String\n",
    "qry=\"select * from encounter;\"\n",
    "\n",
    "# Execute query on SQLite\n",
    "cur.execute(qry)\n",
    "\n",
    "# Display rows\n",
    "rows=cur.fetchall()\n",
    "\n",
    "for row in rows:\n",
    "    print (row)"
   ]
  },
  {
   "cell_type": "code",
   "execution_count": 188,
   "id": "83fdf845",
   "metadata": {},
   "outputs": [
    {
     "name": "stdout",
     "output_type": "stream",
     "text": [
      "('DG001', 'p01', 'ENC0001', 'I50.43', 'Acute on chronic systolic (congestive) and diastolic (congestive) heart failure', '2021-05-24', 'ICD10')\n",
      "('DG002', 'p02', 'ENC0004', 'I50.9', 'Heart failure, Unspecified', '2020-05-03', 'ICD10')\n",
      "('DG003', 'p03', 'ENC0005', 'I63', 'Cerebral Infarction', '2020-12-20', 'ICD10')\n",
      "('DG004', 'p04', 'ENC0008', 'I74.9', 'Embolism and thrombosis of unspecified artery', '2020-04-05', 'ICD10')\n",
      "('DG005', 'p05', 'ENC0010', 'E10.51', 'Type 1 diabetes mellitus with diabetic peripheral angiopathy without gangrene', '2021-05-06', 'ICD10')\n",
      "('DG006', 'p06', 'ENC0011', 'I70.243', 'Atherosclerosis of native arteries of left leg with ulceration of ankle', '2021-11-12', 'ICD10')\n",
      "('DG007', 'p07', 'ENC0015', 'I82.1', 'Thrombophlebitis migrans', '2021-10-24', 'ICD10')\n",
      "('DG008', 'p08', 'ENC0016', 'I86.4', 'Gastric varices', '2020-05-23', 'ICD10')\n",
      "('DG009', 'p09', 'ENC0017', 'S35.341', 'Laceration of inferior mesenteric vein, sequela', '2020-06-21', 'ICD10')\n",
      "('DG0010', 'p10', 'ENC0018', 'A39.83', 'Meningococcal arthritis', '2022-01-02', 'ICD10')\n"
     ]
    }
   ],
   "source": [
    "qry=\"\"\"insert into DIAGNOSIS (DIAGNOSIS_ID, PATIENT_ID, ENCOUNTER_ID, DIAGNOSIS_CODE, DIAGNOSIS_DESCRIPTION, DIAGNOSIS_DATE, DIAGNOSIS_CODE_TYPE)  \n",
    "values \n",
    "(\"DG001\",\"p01\", \"ENC0001\", \"I50.43\", \"Acute on chronic systolic (congestive) and diastolic (congestive) heart failure\", \"2021-05-24\", \"ICD10\"),\n",
    "(\"DG002\",\"p02\", \"ENC0004\", \"I50.9\", \"Heart failure, Unspecified\", \"2020-05-03\", \"ICD10\"),\n",
    "(\"DG003\",\"p03\", \"ENC0005\", \"I63\", \"Cerebral Infarction\", \"2020-12-20\", \"ICD10\"),\n",
    "(\"DG004\",\"p04\", \"ENC0008\", \"I74.9\", \"Embolism and thrombosis of unspecified artery\", \"2020-04-05\", \"ICD10\"),\n",
    "(\"DG005\",\"p05\", \"ENC0010\", \"E10.51\", \"Type 1 diabetes mellitus with diabetic peripheral angiopathy without gangrene\", \"2021-05-06\", \"ICD10\"),\n",
    "(\"DG006\",\"p06\", \"ENC0011\", \"I70.243\", \"Atherosclerosis of native arteries of left leg with ulceration of ankle\", \"2021-11-12\", \"ICD10\"),\n",
    "(\"DG007\",\"p07\", \"ENC0015\", \"I82.1\", \"Thrombophlebitis migrans\", \"2021-10-24\", \"ICD10\"),\n",
    "(\"DG008\",\"p08\", \"ENC0016\", \"I86.4\", \"Gastric varices\", \"2020-05-23\", \"ICD10\"),\n",
    "(\"DG009\",\"p09\", \"ENC0017\", \"S35.341\", \"Laceration of inferior mesenteric vein, sequela\", \"2020-06-21\", \"ICD10\"),\n",
    "(\"DG0010\",\"p10\", \"ENC0018\", \"A39.83\", \"Meningococcal arthritis\", \"2022-01-02\", \"ICD10\")\n",
    ";\"\"\"\n",
    "\n",
    "cur.execute(qry)\n",
    "\n",
    "# Commit data to database\n",
    "conn.commit()\n",
    "\n",
    "\n",
    "# Prepare the query String\n",
    "qry=\"select * from diagnosis;\"\n",
    "\n",
    "# Execute query on SQLite\n",
    "cur.execute(qry)\n",
    "\n",
    "# Display rows\n",
    "rows=cur.fetchall()\n",
    "\n",
    "for row in rows:\n",
    "    print (row)"
   ]
  },
  {
   "cell_type": "code",
   "execution_count": 190,
   "id": "6e0d658f",
   "metadata": {},
   "outputs": [
    {
     "name": "stdout",
     "output_type": "stream",
     "text": [
      "('PR001', 'p01', 'ENC0001', 'Z48.\\xa0812', 'Encounter for surgical aftercare following surgery on the circulatory system', '2020-07-24', '2020-07-24', 'ICD10')\n",
      "('PR012', 'p02', 'ENC0004', '4A023NZ', 'Heart catheterization', '2020-05-05', '2020-05-05', 'ICD10')\n",
      "('PR023', 'p03', 'ENC0005', 'F0134ZZ', 'Motor Function Assessment of Neurological System - Whole Body', '2020-12-24', '2020-12-24', 'ICD10')\n",
      "('PR034', 'p04', 'ENC0008', 'F020DYZ', 'Neuromotor Development Assessment of Neurological System', '2020-04-02', '2020-04-02', 'ICD10')\n",
      "('PR045', 'p05', 'ENC0010', 'D8000ZZ', 'Beam Radiation of Eye using Photons\\xa0', '2021-05-07', '2021-05-08', 'ICD10')\n"
     ]
    }
   ],
   "source": [
    "qry=\"\"\"insert into PROCEDURE (PROCEDURE_ID, PATIENT_ID, ENCOUNTER_ID, PROCEDURE_CODE, PROCEDURE_DESCRIPTION, PROCEDURE_START_DATE, PROCEDURE_END_DATE, PROCEDURE_CODE_TYPE)  \n",
    "values \n",
    "(\"PR001\",\"p01\", \"ENC0001\", \"Z48. 812\", \"Encounter for surgical aftercare following surgery on the circulatory system\", \"2020-07-24\", \"2020-07-24\", \"ICD10\"),\n",
    "(\"PR012\",\"p02\", \"ENC0004\", \"4A023NZ\", \"Heart catheterization\", \"2020-05-05\", \"2020-05-05\", \"ICD10\"),\n",
    "(\"PR023\",\"p03\", \"ENC0005\", \"F0134ZZ\", \"Motor Function Assessment of Neurological System - Whole Body\", \"2020-12-24\", \"2020-12-24\", \"ICD10\"),\n",
    "(\"PR034\",\"p04\", \"ENC0008\", \"F020DYZ\", \"Neuromotor Development Assessment of Neurological System\", \"2020-04-02\", \"2020-04-02\", \"ICD10\"),\n",
    "(\"PR045\",\"p05\", \"ENC0010\", \"D8000ZZ\", \"Beam Radiation of Eye using Photons \", \"2021-05-07\", \"2021-05-08\", \"ICD10\")\n",
    ";\"\"\"\n",
    "\n",
    "cur.execute(qry)\n",
    "\n",
    "# Commit data to database\n",
    "conn.commit()\n",
    "\n",
    "\n",
    "# Prepare the query String\n",
    "qry=\"select * from procedure;\"\n",
    "\n",
    "# Execute query on SQLite\n",
    "cur.execute(qry)\n",
    "\n",
    "# Display rows\n",
    "rows=cur.fetchall()\n",
    "\n",
    "for row in rows:\n",
    "    print (row)"
   ]
  },
  {
   "cell_type": "code",
   "execution_count": 184,
   "id": "72264983",
   "metadata": {},
   "outputs": [
    {
     "name": "stdout",
     "output_type": "stream",
     "text": [
      "('DOC001', 'Franklin', 'Cardiology')\n",
      "('DOC002', 'Joe', 'Neurology')\n",
      "('DOC003', 'Alex', 'Cardiology')\n",
      "('DOC004', 'Hailey', 'Gynecologists')\n",
      "('DOC005', 'Olivia', 'Family medicine')\n",
      "('DOC006', 'Emma', 'Orthopedic surgery')\n"
     ]
    }
   ],
   "source": [
    "qry=\"\"\"insert into HCP (DOCTOR_ID, DOCTOR_NAME, DEPARTMENT)\n",
    "values \n",
    "(\"DOC001\", \"Franklin\", \"Cardiology\"),\n",
    "(\"DOC002\", \"Joe\", \"Neurology\"),\n",
    "(\"DOC003\", \"Alex\", \"Cardiology\"),\n",
    "(\"DOC004\", \"Hailey\", \"Gynecologists\"),\n",
    "(\"DOC005\", \"Olivia\", \"Family medicine\"),\n",
    "(\"DOC006\", \"Emma\", \"Orthopedic surgery\")\n",
    ";\"\"\"\n",
    "\n",
    "cur.execute(qry)\n",
    "\n",
    "# Commit data to database\n",
    "conn.commit()\n",
    "\n",
    "\n",
    "# Prepare the query String\n",
    "qry=\"select * from hcp;\"\n",
    "\n",
    "# Execute query on SQLite\n",
    "cur.execute(qry)\n",
    "\n",
    "# Display rows\n",
    "rows=cur.fetchall()\n",
    "\n",
    "for row in rows:\n",
    "    print (row)"
   ]
  },
  {
   "cell_type": "code",
   "execution_count": 192,
   "id": "fbc3f67e",
   "metadata": {},
   "outputs": [
    {
     "name": "stdout",
     "output_type": "stream",
     "text": [
      "('B001', 'p01', 'ENC0001', 50, 70, 'NHS')\n",
      "('B002', 'p01', 'ENC0002', 80, 100, 'NHS')\n",
      "('B003', 'p02', 'ENC0003', 30, 60, 'Self Paid')\n",
      "('B004', 'p02', 'ENC0004', 70, 110, 'NHS')\n",
      "('B005', 'p03', 'ENC0005', 40, 70, 'Private')\n",
      "('B006', 'p03', 'ENC0006', 20, 50, 'NHS')\n",
      "('B007', 'p03', 'ENC0007', 50, 80, 'Self Paid')\n",
      "('B008', 'p04', 'ENC0008', 100, 120, 'NHS')\n",
      "('B009', 'p05', 'ENC0009', 80, 100, 'Private')\n",
      "('B010', 'p05', 'ENC0010', 90, 120, 'Private')\n",
      "('B011', 'p06', 'ENC0011', 80, 100, 'NHS')\n",
      "('B012', 'p06', 'ENC0012', 40, 70, 'Self Paid')\n",
      "('B013', 'p07', 'ENC0013', 30, 60, 'NHS')\n",
      "('B014', 'p07', 'ENC0014', 20, 40, 'NHS')\n",
      "('B015', 'p07', 'ENC0015', 50, 70, 'Private')\n",
      "('B016', 'p08', 'ENC0016', 60, 90, 'NHS')\n",
      "('B017', 'p09', 'ENC0017', 70, 90, 'Private')\n",
      "('B018', 'p10', 'ENC0018', 80, 100, 'NHS')\n",
      "('B019', 'p10', 'ENC0019', 100, 120, 'Private')\n",
      "('B020', 'p11', 'ENC0020', 30, 40, 'NHS')\n",
      "('B021', 'p12', 'ENC0021', 40, 60, 'NHS')\n",
      "('B022', 'p13', 'ENC0022', 50, 80, 'Self Paid')\n",
      "('B023', 'p13', 'ENC0023', 20, 40, 'NHS')\n",
      "('B024', 'p14', 'ENC0024', 70, 90, 'NHS')\n",
      "('B025', 'p15', 'ENC0025', 80, 100, 'Private')\n",
      "('B026', 'p16', 'ENC0026', 100, 110, 'Private')\n",
      "('B027', 'p17', 'ENC0027', 100, 120, 'Private')\n",
      "('B028', 'p18', 'ENC0028', 20, 30, 'NHS')\n",
      "('B029', 'p19', 'ENC0029', 50, 70, 'NHS')\n",
      "('B030', 'p19', 'ENC0030', 60, 80, 'NHS')\n",
      "('B031', 'p20', 'ENC0031', 90, 110, 'NHS')\n",
      "('B032', 'p20', 'ENC0032', 30, 50, 'Self Paid')\n",
      "('B033', 'p21', 'ENC0033', 80, 100, 'Self Paid')\n",
      "('B034', 'p22', 'ENC0034', 40, 70, 'NHS')\n",
      "('B035', 'p23', 'ENC0035', 70, 90, 'NHS')\n",
      "('B036', 'p23', 'ENC0036', 110, 130, 'Self Paid')\n",
      "('B037', 'p24', 'ENC0037', 30, 50, 'NHS')\n",
      "('B038', 'p25', 'ENC0038', 40, 60, 'NHS')\n",
      "('B039', 'p26', 'ENC0039', 70, 90, 'Private')\n",
      "('B040', 'p27', 'ENC0040', 20, 50, 'NHS')\n",
      "('B041', 'p27', 'ENC0041', 60, 80, 'NHS')\n",
      "('B042', 'p27', 'ENC0042', 30, 40, 'Self Paid')\n",
      "('B043', 'p28', 'ENC0042', 100, 110, 'NHS')\n",
      "('B044', 'p28', 'ENC0044', 80, 90, 'NHS')\n",
      "('B045', 'p28', 'ENC0045', 50, 70, 'Private')\n",
      "('B046', 'p28', 'ENC0046', 30, 50, 'NHS')\n",
      "('B047', 'p29', 'ENC0047', 80, 90, 'NHS')\n",
      "('B048', 'p29', 'ENC0048', 90, 110, 'Self Paid')\n",
      "('B049', 'p30', 'ENC0049', 30, 50, 'Self Paid')\n",
      "('B050', 'p30', 'ENC0050', 50, 70, 'NHS')\n"
     ]
    }
   ],
   "source": [
    "qry=\"\"\"insert into BILLS (BILL_NO, PATIENT_ID, ENCOUNTER_ID, TOTAL_COST, NET_COST, INSURANCE_TYPE)  \n",
    "values \n",
    "(\"B001\",\"p01\", \"ENC0001\", 50, 70, \"NHS\"),\n",
    "(\"B002\",\"p01\", \"ENC0002\", 80, 100, \"NHS\"),\n",
    "(\"B003\",\"p02\", \"ENC0003\", 30, 60, \"Self Paid\"),\n",
    "(\"B004\",\"p02\", \"ENC0004\", 70, 110, \"NHS\"),\n",
    "(\"B005\",\"p03\", \"ENC0005\", 40, 70, \"Private\"),\n",
    "(\"B006\",\"p03\", \"ENC0006\", 20, 50, \"NHS\"),\n",
    "(\"B007\",\"p03\", \"ENC0007\", 50, 80, \"Self Paid\"),\n",
    "(\"B008\",\"p04\", \"ENC0008\", 100, 120, \"NHS\"),\n",
    "(\"B009\",\"p05\", \"ENC0009\", 80, 100, \"Private\"),\n",
    "(\"B010\",\"p05\", \"ENC0010\", 90, 120, \"Private\"),\n",
    "(\"B011\",\"p06\", \"ENC0011\", 80, 100, \"NHS\"),\n",
    "(\"B012\",\"p06\", \"ENC0012\", 40, 70, \"Self Paid\"),\n",
    "(\"B013\",\"p07\", \"ENC0013\", 30, 60, \"NHS\"),\n",
    "(\"B014\",\"p07\", \"ENC0014\", 20, 40, \"NHS\"),\n",
    "(\"B015\",\"p07\", \"ENC0015\", 50, 70, \"Private\"),\n",
    "(\"B016\",\"p08\", \"ENC0016\", 60, 90, \"NHS\"),\n",
    "(\"B017\",\"p09\", \"ENC0017\", 70, 90, \"Private\"),\n",
    "(\"B018\",\"p10\", \"ENC0018\", 80, 100, \"NHS\"),\n",
    "(\"B019\",\"p10\", \"ENC0019\", 100, 120, \"Private\"),\n",
    "(\"B020\",\"p11\", \"ENC0020\", 30, 40, \"NHS\"),\n",
    "(\"B021\",\"p12\", \"ENC0021\", 40, 60, \"NHS\"),\n",
    "(\"B022\",\"p13\", \"ENC0022\", 50, 80, \"Self Paid\"),\n",
    "(\"B023\",\"p13\", \"ENC0023\", 20, 40, \"NHS\"),\n",
    "(\"B024\",\"p14\", \"ENC0024\", 70, 90, \"NHS\"),\n",
    "(\"B025\",\"p15\", \"ENC0025\", 80, 100, \"Private\"),\n",
    "(\"B026\",\"p16\", \"ENC0026\", 100, 110, \"Private\"),\n",
    "(\"B027\",\"p17\", \"ENC0027\", 100, 120, \"Private\"),\n",
    "(\"B028\",\"p18\", \"ENC0028\", 20, 30, \"NHS\"),\n",
    "(\"B029\",\"p19\", \"ENC0029\", 50, 70, \"NHS\"),\n",
    "(\"B030\",\"p19\", \"ENC0030\", 60, 80, \"NHS\"),\n",
    "(\"B031\",\"p20\", \"ENC0031\", 90, 110, \"NHS\"),\n",
    "(\"B032\",\"p20\", \"ENC0032\", 30, 50, \"Self Paid\"),\n",
    "(\"B033\",\"p21\", \"ENC0033\", 80, 100, \"Self Paid\"),\n",
    "(\"B034\",\"p22\", \"ENC0034\", 40, 70, \"NHS\"),\n",
    "(\"B035\",\"p23\", \"ENC0035\", 70, 90, \"NHS\"),\n",
    "(\"B036\",\"p23\", \"ENC0036\", 110, 130, \"Self Paid\"),\n",
    "(\"B037\",\"p24\", \"ENC0037\", 30, 50, \"NHS\"),\n",
    "(\"B038\",\"p25\", \"ENC0038\", 40, 60, \"NHS\"),\n",
    "(\"B039\",\"p26\", \"ENC0039\", 70, 90, \"Private\"),\n",
    "(\"B040\",\"p27\", \"ENC0040\", 20, 50, \"NHS\"),\n",
    "(\"B041\",\"p27\", \"ENC0041\", 60, 80, \"NHS\"),\n",
    "(\"B042\",\"p27\", \"ENC0042\", 30, 40, \"Self Paid\"),\n",
    "(\"B043\",\"p28\", \"ENC0042\", 100, 110, \"NHS\"),\n",
    "(\"B044\",\"p28\", \"ENC0044\", 80, 90, \"NHS\"),\n",
    "(\"B045\",\"p28\", \"ENC0045\", 50, 70, \"Private\"),\n",
    "(\"B046\",\"p28\", \"ENC0046\", 30, 50, \"NHS\"),\n",
    "(\"B047\",\"p29\", \"ENC0047\", 80, 90, \"NHS\"),\n",
    "(\"B048\",\"p29\", \"ENC0048\", 90, 110, \"Self Paid\"),\n",
    "(\"B049\",\"p30\", \"ENC0049\", 30, 50, \"Self Paid\"),\n",
    "(\"B050\",\"p30\", \"ENC0050\", 50, 70, \"NHS\")\n",
    ";\"\"\"\n",
    "\n",
    "cur.execute(qry)\n",
    "\n",
    "# Commit data to database\n",
    "conn.commit()\n",
    "\n",
    "\n",
    "# Prepare the query String\n",
    "qry=\"select * from bills;\"\n",
    "\n",
    "# Execute query on SQLite\n",
    "cur.execute(qry)\n",
    "\n",
    "# Display rows\n",
    "rows=cur.fetchall()\n",
    "\n",
    "for row in rows:\n",
    "    print (row)"
   ]
  },
  {
   "cell_type": "code",
   "execution_count": 194,
   "id": "ce093e09",
   "metadata": {},
   "outputs": [
    {
     "name": "stdout",
     "output_type": "stream",
     "text": [
      "('PUR101', 'p01', 'ENC0001', 'NDC077-3105-01', 'Kivexa', '100', '3')\n",
      "('PUR102', 'p01', 'ENC0002', 'NDC077-3105-02', 'Trizivir', '200', '2')\n",
      "('PUR103', 'p02', 'ENC0003', 'NDC077-3105-03', 'Abarelix', '250', '1')\n",
      "('PUR104', 'p02', 'ENC0004', 'NDC077-3105-04', 'Actictin', '300', '1')\n",
      "('PUR105', 'p03', 'ENC0005', 'NDC077-3105-05', 'Asacol', '320', '2')\n",
      "('PUR106', 'p03', 'ENC0006', 'NDC077-3105-06', 'Ascleara', '450', '3')\n",
      "('PUR107', 'p03', 'ENC0007', 'NDC077-3105-07', 'Exemestane', '420', '2')\n",
      "('PUR108', 'p04', 'ENC0008', 'NDC077-3105-08', 'Nuvigil', '600', '2')\n",
      "('PUR109', 'p05', 'ENC0009', 'NDC077-3105-09', 'Forte', '120', '3')\n",
      "('PUR110', 'p05', 'ENC0010', 'NDC077-3105-10', 'Aristocort', '240', '3')\n",
      "('PUR111', 'p06', 'ENC0011', 'NDC077-3105-11', 'Iscepto-p', '100', '3')\n",
      "('PUR112', 'p06', 'ENC0012', 'NDC077-3105-12', 'Abilify', '200', '2')\n",
      "('PUR113', 'p07', 'ENC0013', 'NDC077-3105-13', 'Kivexa', '250', '1')\n",
      "('PUR121', 'p07', 'ENC0014', 'NDC077-3105-14', 'Trizivir', '300', '1')\n",
      "('PUR122', 'p07', 'ENC0015', 'NDC077-3105-15', 'Abarelix', '320', '2')\n",
      "('PUR123', 'p08', 'ENC0016', 'NDC077-3105-16', 'Actictin', '450', '3')\n",
      "('PUR124', 'p09', 'ENC0017', 'NDC077-3105-17', 'Asacol', '100', '2')\n",
      "('PUR125', 'p10', 'ENC0018', 'NDC077-3105-18', 'Ascleara', '200', '2')\n",
      "('PUR126', 'p10', 'ENC0019', 'NDC077-3105-19', 'Kivexa', '250', '3')\n",
      "('PUR127', 'p11', 'ENC0020', 'NDC077-3105-20', 'Trizivir', '300', '3')\n",
      "('PUR128', 'p12', 'ENC0021', 'NDC077-3105-21', 'Abarelix', '320', '3')\n",
      "('PUR129', 'p13', 'ENC0022', 'NDC077-3105-22', 'Actictin', '450', '2')\n",
      "('PUR130', 'p13', 'ENC0023', 'NDC077-3105-23', 'Asacol', '420', '1')\n",
      "('PUR131', 'p14', 'ENC0024', 'NDC077-3105-24', 'Kivexa', '600', '1')\n",
      "('PUR132', 'p15', 'ENC0025', 'NDC077-3105-25', 'Trizivir', '120', '2')\n",
      "('PUR133', 'p16', 'ENC0026', 'NDC077-3105-26', 'Abarelix', '240', '3')\n",
      "('PUR134', 'p17', 'ENC0027', 'NDC077-3105-27', 'Actictin', '100', '2')\n",
      "('PUR135', 'p18', 'ENC0028', 'NDC077-3105-28', 'Asacol', '200', '2')\n",
      "('PUR136', 'p19', 'ENC0029', 'NDC077-3105-29', 'Kivexa', '250', '3')\n",
      "('PUR137', 'p19', 'ENC0030', 'NDC077-3105-30', 'Trizivir', '300', '3')\n",
      "('PUR138', 'p20', 'ENC0031', 'NDC077-3105-31', 'Abarelix', '320', '3')\n",
      "('PUR139', 'p20', 'ENC0032', 'NDC077-3105-32', 'Actictin', '450', '2')\n",
      "('PUR140', 'p21', 'ENC0033', 'NDC077-3105-33', 'Asacol', '420', '1')\n",
      "('PUR141', 'p22', 'ENC0034', 'NDC077-3105-34', 'Ascleara', '100', '1')\n",
      "('PUR151', 'p23', 'ENC0035', 'NDC077-3105-35', 'Exemestane', '200', '2')\n",
      "('PUR161', 'p23', 'ENC0036', 'NDC077-3105-36', 'Nuvigil', '100', '3')\n",
      "('PUR171', 'p24', 'ENC0037', 'NDC077-3105-37', 'Forte', '200', '2')\n",
      "('PUR181', 'p25', 'ENC0038', 'NDC077-3105-38', 'Aristocort', '250', '2')\n",
      "('PUR191', 'p26', 'ENC0039', 'NDC077-3105-39', 'Iscepto-p', '300', '3')\n",
      "('PUR192', 'p27', 'ENC0040', 'NDC077-3105-40', 'Abilify', '320', '3')\n",
      "('PUR193', 'p27', 'ENC0041', 'NDC077-3105-41', 'Kivexa', '450', '3')\n",
      "('PUR194', 'p27', 'ENC0042', 'NDC077-3105-42', 'Trizivir', '420', '2')\n",
      "('PUR195', 'p28', 'ENC0043', 'NDC077-3105-43', 'Abarelix', '600', '1')\n",
      "('PUR196', 'p28', 'ENC0044', 'NDC077-3105-44', 'Actictin', '100', '1')\n",
      "('PUR197', 'p28', 'ENC0045', 'NDC077-3105-45', 'Asacol', '200', '2')\n",
      "('PUR198', 'p28', 'ENC0046', 'NDC077-3105-46', 'Ascleara', '250', '3')\n",
      "('PUR199', 'p29', 'ENC0047', 'NDC077-3105-47', 'Exemestane', '300', '2')\n",
      "('PUR172', 'p29', 'ENC0048', 'NDC077-3105-48', 'Nuvigil', '320', '2')\n",
      "('PUR173', 'p30', 'ENC0049', 'NDC077-3105-49', 'Forte', '450', '3')\n",
      "('PUR174', 'p30', 'ENC0050', 'NDC077-3105-50', 'Aristocort', '420', '3')\n"
     ]
    }
   ],
   "source": [
    "qry=\"\"\"insert into pharmacy (PURCHASE_ID, PATIENT_ID, ENCOUNTER_ID, DRUG_CODE, DRUG_NAME, DOSAGE, FREQUENCY)\n",
    "values \n",
    "(\"PUR101\", \"p01\", \"ENC0001\", \"NDC077-3105-01\", \"Kivexa\", \"100\", 3),\n",
    "(\"PUR102\", \"p01\", \"ENC0002\", \"NDC077-3105-02\", \"Trizivir\", \"200\", 2),\n",
    "(\"PUR103\", \"p02\", \"ENC0003\", \"NDC077-3105-03\", \"Abarelix\", \"250\", 1),\n",
    "(\"PUR104\", \"p02\", \"ENC0004\", \"NDC077-3105-04\", \"Actictin\", \"300\", 1),\n",
    "(\"PUR105\", \"p03\", \"ENC0005\", \"NDC077-3105-05\", \"Asacol\", \"320\", 2),\n",
    "(\"PUR106\", \"p03\", \"ENC0006\", \"NDC077-3105-06\", \"Ascleara\", \"450\", 3),\n",
    "(\"PUR107\", \"p03\", \"ENC0007\", \"NDC077-3105-07\", \"Exemestane\", \"420\", 2),\n",
    "(\"PUR108\", \"p04\", \"ENC0008\", \"NDC077-3105-08\", \"Nuvigil\", \"600\", 2),\n",
    "(\"PUR109\", \"p05\", \"ENC0009\", \"NDC077-3105-09\", \"Forte\", \"120\", 3),\n",
    "(\"PUR110\", \"p05\", \"ENC0010\", \"NDC077-3105-10\", \"Aristocort\", \"240\", 3),\n",
    "(\"PUR111\", \"p06\", \"ENC0011\", \"NDC077-3105-11\", \"Iscepto-p\", \"100\", 3),\n",
    "(\"PUR112\", \"p06\", \"ENC0012\", \"NDC077-3105-12\", \"Abilify\", \"200\", 2),\n",
    "(\"PUR113\", \"p07\", \"ENC0013\", \"NDC077-3105-13\", \"Kivexa\", \"250\", 1),\n",
    "(\"PUR121\", \"p07\", \"ENC0014\", \"NDC077-3105-14\", \"Trizivir\", \"300\",1),\n",
    "(\"PUR122\", \"p07\", \"ENC0015\", \"NDC077-3105-15\", \"Abarelix\", \"320\", 2),\n",
    "(\"PUR123\", \"p08\", \"ENC0016\", \"NDC077-3105-16\", \"Actictin\", \"450\", 3),\n",
    "(\"PUR124\", \"p09\", \"ENC0017\", \"NDC077-3105-17\", \"Asacol\", \"100\", 2),\n",
    "(\"PUR125\", \"p10\", \"ENC0018\", \"NDC077-3105-18\", \"Ascleara\", \"200\", 2),\n",
    "(\"PUR126\", \"p10\", \"ENC0019\", \"NDC077-3105-19\", \"Kivexa\", \"250\", 3),\n",
    "(\"PUR127\", \"p11\", \"ENC0020\", \"NDC077-3105-20\", \"Trizivir\", \"300\", 3),\n",
    "(\"PUR128\", \"p12\", \"ENC0021\", \"NDC077-3105-21\", \"Abarelix\", \"320\", 3),\n",
    "(\"PUR129\", \"p13\", \"ENC0022\", \"NDC077-3105-22\", \"Actictin\", \"450\", 2),\n",
    "(\"PUR130\", \"p13\", \"ENC0023\", \"NDC077-3105-23\", \"Asacol\", \"420\", 1),\n",
    "(\"PUR131\", \"p14\", \"ENC0024\", \"NDC077-3105-24\", \"Kivexa\", \"600\", 1),\n",
    "(\"PUR132\", \"p15\", \"ENC0025\", \"NDC077-3105-25\", \"Trizivir\", \"120\", 2),\n",
    "(\"PUR133\", \"p16\", \"ENC0026\", \"NDC077-3105-26\", \"Abarelix\", \"240\", 3),\n",
    "(\"PUR134\", \"p17\", \"ENC0027\", \"NDC077-3105-27\", \"Actictin\", \"100\", 2),\n",
    "(\"PUR135\", \"p18\", \"ENC0028\", \"NDC077-3105-28\", \"Asacol\", \"200\", 2),\n",
    "(\"PUR136\", \"p19\", \"ENC0029\", \"NDC077-3105-29\", \"Kivexa\", \"250\", 3),\n",
    "(\"PUR137\", \"p19\", \"ENC0030\", \"NDC077-3105-30\", \"Trizivir\", \"300\", 3),\n",
    "(\"PUR138\", \"p20\", \"ENC0031\", \"NDC077-3105-31\", \"Abarelix\", \"320\", 3),\n",
    "(\"PUR139\", \"p20\", \"ENC0032\", \"NDC077-3105-32\", \"Actictin\", \"450\", 2),\n",
    "(\"PUR140\", \"p21\", \"ENC0033\", \"NDC077-3105-33\", \"Asacol\", \"420\", 1),\n",
    "(\"PUR141\", \"p22\", \"ENC0034\", \"NDC077-3105-34\", \"Ascleara\", \"100\", 1),\n",
    "(\"PUR151\", \"p23\", \"ENC0035\", \"NDC077-3105-35\", \"Exemestane\", \"200\", 2),\n",
    "(\"PUR161\", \"p23\", \"ENC0036\", \"NDC077-3105-36\", \"Nuvigil\", \"100\", 3),\n",
    "(\"PUR171\", \"p24\", \"ENC0037\", \"NDC077-3105-37\", \"Forte\", \"200\", 2),\n",
    "(\"PUR181\", \"p25\", \"ENC0038\", \"NDC077-3105-38\", \"Aristocort\", \"250\", 2),\n",
    "(\"PUR191\", \"p26\", \"ENC0039\", \"NDC077-3105-39\", \"Iscepto-p\", \"300\", 3),\n",
    "(\"PUR192\", \"p27\", \"ENC0040\", \"NDC077-3105-40\", \"Abilify\", \"320\", 3),\n",
    "(\"PUR193\", \"p27\", \"ENC0041\", \"NDC077-3105-41\", \"Kivexa\", \"450\",    3),\n",
    "(\"PUR194\", \"p27\", \"ENC0042\", \"NDC077-3105-42\", \"Trizivir\", \"420\", 2),\n",
    "(\"PUR195\", \"p28\", \"ENC0043\", \"NDC077-3105-43\", \"Abarelix\", \"600\", 1),\n",
    "(\"PUR196\", \"p28\", \"ENC0044\", \"NDC077-3105-44\", \"Actictin\", \"100\", 1),\n",
    "(\"PUR197\", \"p28\", \"ENC0045\", \"NDC077-3105-45\", \"Asacol\", \"200\", 2),\n",
    "(\"PUR198\", \"p28\", \"ENC0046\", \"NDC077-3105-46\", \"Ascleara\", \"250\", 3),\n",
    "(\"PUR199\", \"p29\", \"ENC0047\", \"NDC077-3105-47\", \"Exemestane\", \"300\", 2),\n",
    "(\"PUR172\", \"p29\", \"ENC0048\", \"NDC077-3105-48\", \"Nuvigil\", \"320\", 2),\n",
    "(\"PUR173\", \"p30\", \"ENC0049\", \"NDC077-3105-49\", \"Forte\", \"450\", 3),\n",
    "(\"PUR174\", \"p30\", \"ENC0050\", \"NDC077-3105-50\", \"Aristocort\", \"420\", 3)\n",
    ";\"\"\"\n",
    "\n",
    "cur.execute(qry)\n",
    "\n",
    "# Commit data to database\n",
    "conn.commit()\n",
    "\n",
    "\n",
    "# Prepare the query String\n",
    "qry=\"select * from pharmacy;\"\n",
    "\n",
    "# Execute query on SQLite\n",
    "cur.execute(qry)\n",
    "\n",
    "# Display rows\n",
    "rows=cur.fetchall()\n",
    "\n",
    "for row in rows:\n",
    "    print (row)"
   ]
  },
  {
   "cell_type": "markdown",
   "id": "e9f898e5",
   "metadata": {},
   "source": [
    "### Displaying tables"
   ]
  },
  {
   "cell_type": "code",
   "execution_count": 195,
   "id": "2ec2eeaf",
   "metadata": {},
   "outputs": [],
   "source": [
    "def tables_in_sqlite_db(conn):\n",
    "    cursor = conn.execute(\"SELECT name FROM sqlite_master WHERE type='table';\")\n",
    "    tables = [\n",
    "        v[0] for v in cursor.fetchall()\n",
    "        if v[0] != \"sqlite_sequence\"\n",
    "    ]\n",
    "    cursor.close()\n",
    "    return tables,"
   ]
  },
  {
   "cell_type": "code",
   "execution_count": 196,
   "id": "2b21a666",
   "metadata": {},
   "outputs": [
    {
     "name": "stdout",
     "output_type": "stream",
     "text": [
      "(['PATIENT', 'ENCOUNTER', 'HCP', 'DIAGNOSIS', 'PROCEDURE', 'BILLS', 'PHARMACY'],)\n"
     ]
    }
   ],
   "source": [
    "# call the function and pass connection object \n",
    "tables = tables_in_sqlite_db(conn)\n",
    "\n",
    "#print tables in the current database\n",
    "print(tables)"
   ]
  },
  {
   "cell_type": "markdown",
   "id": "9da26e81",
   "metadata": {},
   "source": [
    "### Updating marital status of a patient"
   ]
  },
  {
   "cell_type": "code",
   "execution_count": 255,
   "id": "92cd28cd",
   "metadata": {},
   "outputs": [
    {
     "name": "stdout",
     "output_type": "stream",
     "text": [
      "Enter the patient id that you wish to change:p27\n",
      "Enter Marital status (Single, Married, Widow):Married\n",
      "Marital Status is updated.\n"
     ]
    }
   ],
   "source": [
    "inputptid=input('Enter the patient id that you wish to change:')\n",
    "inputmarital=input('Enter Marital status (Single, Married, Widow):')\n",
    "qry='update patient set MARITAL_STATUS=? where PATIENT_ID=?'\n",
    "\n",
    "try:\n",
    "        cur.execute(qry, (inputmarital,inputptid))\n",
    "        print ('Marital Status is updated.')\n",
    "        conn.commit()\n",
    "except:\n",
    "        print ('Error in update operation... rollback')\n",
    "        conn.rollback()"
   ]
  },
  {
   "cell_type": "markdown",
   "id": "f9d91553",
   "metadata": {},
   "source": [
    "### Verifying the update for Marital Status"
   ]
  },
  {
   "cell_type": "code",
   "execution_count": 256,
   "id": "c6acd20e",
   "metadata": {},
   "outputs": [
    {
     "name": "stdout",
     "output_type": "stream",
     "text": [
      "('p27', 'Boriss', 'Thomsan', 24, 'Male', 'LN41AU', 'Married', 12000, 1998, 7778881253)\n"
     ]
    }
   ],
   "source": [
    "qry=\"select * from patient where PATIENT_ID = 'p27';\"\n",
    "\n",
    "# Execute query on SQLite\n",
    "cur.execute(qry)\n",
    "\n",
    "# Display rows\n",
    "rows=cur.fetchall()\n",
    "\n",
    "for row in rows:\n",
    "    print (row)"
   ]
  },
  {
   "cell_type": "markdown",
   "id": "fe183962",
   "metadata": {},
   "source": [
    "### Deleting records from pharmacy table when the purchase has been cancelled by the patient"
   ]
  },
  {
   "cell_type": "code",
   "execution_count": 207,
   "id": "0167b2f2",
   "metadata": {},
   "outputs": [
    {
     "name": "stdout",
     "output_type": "stream",
     "text": [
      "Enter the purchase id:PUR174\n",
      "Order successfully deleted\n"
     ]
    }
   ],
   "source": [
    "inputName=input('Enter the purchase id:')\n",
    "qry='delete from pharmacy where PURCHASE_ID=?'\n",
    "try:\n",
    "        cur.execute(qry, (inputName,))\n",
    "        print ('Order successfully deleted')\n",
    "        conn.commit()\n",
    "except:\n",
    "        print ('Error in deleting order', inputName)\n",
    "        conn.rollback()\n"
   ]
  },
  {
   "cell_type": "markdown",
   "id": "e38cc528",
   "metadata": {},
   "source": [
    "### Displaying the total NETCOST  the patient has spent in a new column"
   ]
  },
  {
   "cell_type": "code",
   "execution_count": 209,
   "id": "86a69103",
   "metadata": {},
   "outputs": [
    {
     "name": "stdout",
     "output_type": "stream",
     "text": [
      "('B001', 'p01', 'ENC0001', 50, 170, 'NHS')\n",
      "('B003', 'p02', 'ENC0003', 30, 170, 'Self Paid')\n",
      "('B005', 'p03', 'ENC0005', 40, 200, 'Private')\n",
      "('B008', 'p04', 'ENC0008', 100, 120, 'NHS')\n",
      "('B009', 'p05', 'ENC0009', 80, 220, 'Private')\n",
      "('B011', 'p06', 'ENC0011', 80, 170, 'NHS')\n",
      "('B013', 'p07', 'ENC0013', 30, 170, 'NHS')\n",
      "('B016', 'p08', 'ENC0016', 60, 90, 'NHS')\n",
      "('B017', 'p09', 'ENC0017', 70, 90, 'Private')\n",
      "('B018', 'p10', 'ENC0018', 80, 220, 'NHS')\n",
      "('B020', 'p11', 'ENC0020', 30, 40, 'NHS')\n",
      "('B021', 'p12', 'ENC0021', 40, 60, 'NHS')\n",
      "('B022', 'p13', 'ENC0022', 50, 120, 'Self Paid')\n",
      "('B024', 'p14', 'ENC0024', 70, 90, 'NHS')\n",
      "('B025', 'p15', 'ENC0025', 80, 100, 'Private')\n",
      "('B026', 'p16', 'ENC0026', 100, 110, 'Private')\n",
      "('B027', 'p17', 'ENC0027', 100, 120, 'Private')\n",
      "('B028', 'p18', 'ENC0028', 20, 30, 'NHS')\n",
      "('B029', 'p19', 'ENC0029', 50, 150, 'NHS')\n",
      "('B031', 'p20', 'ENC0031', 90, 160, 'NHS')\n",
      "('B033', 'p21', 'ENC0033', 80, 100, 'Self Paid')\n",
      "('B034', 'p22', 'ENC0034', 40, 70, 'NHS')\n",
      "('B035', 'p23', 'ENC0035', 70, 220, 'NHS')\n",
      "('B037', 'p24', 'ENC0037', 30, 50, 'NHS')\n",
      "('B038', 'p25', 'ENC0038', 40, 60, 'NHS')\n",
      "('B039', 'p26', 'ENC0039', 70, 90, 'Private')\n",
      "('B040', 'p27', 'ENC0040', 20, 170, 'NHS')\n",
      "('B043', 'p28', 'ENC0042', 100, 320, 'NHS')\n",
      "('B047', 'p29', 'ENC0047', 80, 200, 'NHS')\n",
      "('B049', 'p30', 'ENC0049', 30, 120, 'Self Paid')\n"
     ]
    }
   ],
   "source": [
    "qry=\"\"\"Select BILL_NO, PATIENT_ID, ENCOUNTER_ID, TOTAL_COST, sum(NET_COST) as patient_net_cost, INSURANCE_TYPE\n",
    "from bills\n",
    "GROUP BY PATIENT_ID;\"\"\"\n",
    "cur.execute(qry)\n",
    "\n",
    "\n",
    "# Commit data to database\n",
    "conn.commit()\n",
    "\n",
    "# Display rows\n",
    "rows=cur.fetchall()\n",
    "\n",
    "for row in rows:\n",
    "    print (row)"
   ]
  },
  {
   "cell_type": "markdown",
   "id": "ca496609",
   "metadata": {},
   "source": [
    "### Joining diagnosis table with encounter table to understand the Patient's vital condition"
   ]
  },
  {
   "cell_type": "code",
   "execution_count": 210,
   "id": "edd64c51",
   "metadata": {},
   "outputs": [
    {
     "name": "stdout",
     "output_type": "stream",
     "text": [
      "('DG001', 'p01', 'ENC0001', 'I50.43', 'Acute on chronic systolic (congestive) and diastolic (congestive) heart failure', '2021-05-24', 'ICD10', 75, 180, 72, 20.8, 120, 80)\n",
      "('DG002', 'p02', 'ENC0004', 'I50.9', 'Heart failure, Unspecified', '2020-05-03', 'ICD10', 50, 182, 73, 20.8, 140, 90)\n",
      "('DG003', 'p03', 'ENC0005', 'I63', 'Cerebral Infarction', '2020-12-20', 'ICD10', 75, 170, 75, 20.6, 120, 80)\n",
      "('DG004', 'p04', 'ENC0008', 'I74.9', 'Embolism and thrombosis of unspecified artery', '2020-04-05', 'ICD10', 75, 190, 77, 20.1, 110, 85)\n",
      "('DG005', 'p05', 'ENC0010', 'E10.51', 'Type 1 diabetes mellitus with diabetic peripheral angiopathy without gangrene', '2021-05-06', 'ICD10', 75, 180, 139, 29.3, 120, 85)\n",
      "('DG006', 'p06', 'ENC0011', 'I70.243', 'Atherosclerosis of native arteries of left leg with ulceration of ankle', '2021-11-12', 'ICD10', 75, 155, 75, 24.8, 120, 85)\n",
      "('DG007', 'p07', 'ENC0015', 'I82.1', 'Thrombophlebitis migrans', '2021-10-24', 'ICD10', 75, 178, 75, 20.8, 110, 80)\n",
      "('DG008', 'p08', 'ENC0016', 'I86.4', 'Gastric varices', '2020-05-23', 'ICD10', 75, 167, 63, 20.8, 120, 80)\n",
      "('DG009', 'p09', 'ENC0017', 'S35.341', 'Laceration of inferior mesenteric vein, sequela', '2020-06-21', 'ICD10', 75, 180, 115, 27.8, 120, 80)\n",
      "('DG0010', 'p10', 'ENC0018', 'A39.83', 'Meningococcal arthritis', '2022-01-02', 'ICD10', 75, 180, 75, 26.8, 120, 80)\n"
     ]
    }
   ],
   "source": [
    "qry=\"\"\"SELECT a.*, b.pulse, b.height, b.weight, b.bmi, b.bp_systolic, b.bp_diastolic\n",
    "FROM diagnosis a\n",
    "inner JOIN encounter b\n",
    "ON a.encounter_id = b.encounter_id;\"\"\"\n",
    "cur.execute(qry)\n",
    "\n",
    "\n",
    "# Commit data to database\n",
    "conn.commit()\n",
    "\n",
    "# Display rows\n",
    "rows=cur.fetchall()\n",
    "\n",
    "for row in rows:\n",
    "    print (row)"
   ]
  },
  {
   "cell_type": "markdown",
   "id": "b9974aaa",
   "metadata": {},
   "source": [
    "### Installing MongoDB Engine"
   ]
  },
  {
   "cell_type": "code",
   "execution_count": 212,
   "id": "0dbbca72",
   "metadata": {},
   "outputs": [],
   "source": [
    "import pymongo\n",
    "from pymongo import MongoClient"
   ]
  },
  {
   "cell_type": "code",
   "execution_count": 213,
   "id": "81afde3c",
   "metadata": {},
   "outputs": [
    {
     "name": "stdout",
     "output_type": "stream",
     "text": [
      "Requirement already satisfied: pymongo in c:\\users\\deepa\\anaconda3\\lib\\site-packages (4.2.0)\n",
      "Note: you may need to restart the kernel to use updated packages.\n"
     ]
    }
   ],
   "source": [
    "pip install pymongo"
   ]
  },
  {
   "cell_type": "code",
   "execution_count": 214,
   "id": "8068ca58",
   "metadata": {},
   "outputs": [],
   "source": [
    "mg=MongoClient('localhost', 27017)\n",
    "\n",
    "mongo_db = mg.ehr_db_mongo #create new db / connect to existing"
   ]
  },
  {
   "cell_type": "code",
   "execution_count": 229,
   "id": "52c63cc6",
   "metadata": {},
   "outputs": [],
   "source": [
    "#create new collections\n",
    "\n",
    "reports = mongo_db.reports\n"
   ]
  },
  {
   "cell_type": "code",
   "execution_count": 246,
   "id": "b1399f85",
   "metadata": {},
   "outputs": [
    {
     "data": {
      "text/plain": [
       "<pymongo.results.InsertOneResult at 0x132d5b7b610>"
      ]
     },
     "execution_count": 246,
     "metadata": {},
     "output_type": "execute_result"
    }
   ],
   "source": [
    "reports.insert_one({'_id':'p01','issue':'chest infection','medical history':'no past issues',\n",
    "                            'report': 'surgery is necessary for mild cardiac failure. Lower blood pressure. When feet are examined, they show no signs of damaged skin or calluses. There have been no reported visual issues. High glucometer readings, suboptimal sugar, and control of retinopathy and neuropathy. should put more effort into my nutrition. will boost insulin by 2 units, be audible and percussion-free, and have normal respiratory effort',\n",
    "                           'treatment': 'Physiotherapy and Angioplasty', 'medicine': 'Angiotensin-2 receptor blocker',\n",
    "                           'frequency': '3 times a day'})\n",
    "reports.insert_one({'_id':'p02','issue':'Fractured Ankle','medical history':'no past issues',\n",
    "                            'report': 'If you have a displaced fracture, which means the two ends of the fracture are not perfectly aligned, your doctor may need to move the fragments back into place. This is known as reduction. Depending on the severity of your pain and swelling, you may require a muscle relaxant, sedative, or local anaesthetic to numb the region before this treatment.',\n",
    "                           'treatment': 'Ankle  orthopedic Surgery', 'medicine': 'Angiotensin-converting enzyme (ACE) inhibitors',\n",
    "                           'frequency': '2 times a day'})\n",
    "reports.insert_one({'_id':'p03','issue':'Lump inside lungs','medical history':'no past issues',\n",
    "                            'report': 'Malignant tumours occur as a result of uncontrolled multiplication and proliferation of lung cells. The illness is distinguished by a persistent cough, the presence of blood in the cough, and shortness of breath. Surgery, chemotherapy, and radiation therapy are used in the treatment.','treatment': 'Surgery - chemotherapy', 'medicine': 'Angiotensin-2 receptor blocker',\n",
    "                           'frequency': '3 times a day'})\n",
    "reports.insert_one({'_id':'p04','issue':'Tumour Inside Brain','medical history':'no past issues',\n",
    "                            'report': 'A swarm of aberrant brain cells. This causes headaches, nausea, visual issues, progressive loss of feeling, hearing impairments, and seizures. Oncogenic tumours grow from the membranes that surround the brain.','treatment': 'Open Brain Surgery, chemotherapy, Radiation therapy', 'medicine': 'Synaptid, Codeage',\n",
    "                           'frequency': '3 times a day'})\n",
    "reports.insert_one({'_id':'p05','issue':'Runny Nose and Cold','medical history':'no past issues',\n",
    "                            'report': 'Viral infection will be to cause. Rhinovirus is the most common cause. The most frequent symptoms are nasal stuffiness, runny nose, sore throat, sneezing, and fever.','treatment': 'Steaming', 'medicine': 'Aspirin','frequency': '2 times a day'})\n",
    "reports.insert_one({'_id':'p06','issue':'Seizure','medical history':'no past issues',\n",
    "                            'report': 'An uncontrollable electrical disruption in the brain that can result in changes in behaviour, movements, sensations, and awareness.','treatment': 'Steaming', 'medicine': 'Levetiracetam','frequency': '2 times a day'})\n",
    "reports.insert_one({'_id':'p08','issue':'Liver Gallstones','medical history':'no past issues',\n",
    "                            'report': 'The gallbladder produces tone from precipitated bile components. Cholelithiasis refers to the presence of gallstones or any condition induced by gallstones, whereas choledocholithiasis refers to the presence of migrating gallstones inside the bile ducts.','treatment':'Liver Surgery', 'medicine': 'Isoniazid','frequency': '3 times a day'})\n",
    "reports.insert_one({'_id':'p09','issue':'Liver Failure','medical history':'no past issues',\n",
    "                            'report': 'Rapid loss of liver function that happens in days or weeks in people who do not have underlying liver disease. The occurrence of serious consequences soon after the initial indications of liver illness (such as jaundice), indicating that the liver has suffered substantial damage (loss of function of 80-90 percent of liver cells).','treatment': 'Liver Surgery', 'medicine': 'Isoniazid','frequency': '3 times a day'})\n",
    "reports.insert_one({'_id':'p11','issue':'Haemochromatosis','medical history':'no past issues',\n",
    "                            'report': 'Excess iron in the body causes dangerous illnesses such diabetes, heart disease, and liver damage. Haemochromatosis results from a genetic mutation. Common symptoms include joint discomfort, tiredness, and liver failure. It is effectively treated by extracting blood to lower the iron level.','treatment': 'Chelation therapy', 'medicine': 'Deferoxamine','frequency': '2 times a day'})\n",
    "reports.insert_one({'_id':'p13','issue':'Runny Nose and Cold','medical history':'no past issues',\n",
    "                            'report': 'Viral infection will be to cause. Rhinovirus is the most common cause. The most frequent symptoms are nasal stuffiness, runny nose, sore throat, sneezing, and fever. Treatment include controlling indications and symptoms.','treatment': 'Nasal sprays', 'medicine': 'Otrivin Spray','frequency': '3 times a day'})\n",
    "reports.insert_one({'_id':'p14','issue':'Stroke','medical history':'no past issues','report': 'The symptoms, medical history, blood pressure, and blood vessels at the back of the eyes of the patient are all evaluated. Dyes are administered to provide a more detailed image of the brain and neck blood arteries seen on X-ray.','treatment': 'therapy', 'medicine': 'Clopidogrel','frequency': '2 times a day'})\n",
    "reports.insert_one({'_id':'p15','issue':'aortic aneurysms','medical history':'no past issues','report': 'Rheumatic fever is a dangerous symptom because it can develop to persistent RHD with its attendant consequences of atrial fibrillation, stroke, heart failure, and infective endocarditis.','treatment': 'Cardiac surgery', 'medicine': 'Plasminogen activator (tPA)','frequency': '2 times a day'})\n",
    "reports.insert_one({'_id':'p16','issue':'peripheral artery disease','medical history':'no past issues','report': 'A minor hereditary condition in which the liver fails to appropriately handle bilirubin. The breakdown of red blood cells produces bilirubin.','treatment': 'Cardiac surgery', 'medicine': 'Plasminogen activator (tPA)','frequency': '2 times a day'})\n",
    "reports.insert_one({'_id':'p17','issue':'thromboembolic disease','medical history':'no past issues','report': 'A minor hereditary condition in which the liver fails to appropriately handle bilirubin. The breakdown of red blood cells produces bilirubin.','treatment': 'Cardiac surgery', 'medicine': 'Plasminogen activator (tPA)','frequency': '2 times a day'})\n",
    "reports.insert_one({'_id':'p18','issue':'vericos vein','medical history':'no past issues','report': 'Veins feature bivalved valves that guide blood flow to the heart. A venous valve dysfunction causes blood to pool and obstructs flow. This is characterised by clearly enlarged and twisted veins. It is normally asymptomatic, although you may detect discoloration or enlarged veins, particularly in your legs and feet.','treatment': 'Venal Incubation', 'medicine': 'Venal activator (tPA)','frequency': '3 times a day'})\n",
    "reports.insert_one({'_id':'p19','issue':'Chronic kidney disease','medical history':'The kidneys are working at less than 15% of their typical capacity. Renal failure is divided into two types: acute kidney failure, which occurs quickly and may resolve, and chronic kidney failure.','treatment': 'Kidney Transplant', 'medicine': 'Paracetamol','frequency': '2 times a day'})\n",
    "reports.insert_one({'_id':'p20','issue':'Chronic kidney disease','medical history':'The kidneys are working at less than 15% of their typical capacity. Renal failure is divided into two types: acute kidney failure, which occurs quickly and may resolve, and chronic kidney failure.','treatment': 'Kidney Transplant', 'medicine': 'Paracetamol','frequency': '2 times a day'})\n",
    "reports.insert_one({'_id':'p21','issue':'Fractured Ankle','medical history':'If you have a displaced fracture, which means the two ends of the fracture are not perfectly aligned, your doctor may need to move the fragments back into place. This is known as reduction. Depending on the severity of your pain and swelling, you may require a muscle relaxant, sedative, or local anaesthetic to numb the region before this treatment.','treatment': 'Ankle  orthopedic Surgery', 'medicine': 'Angiotensin-2 receptor blocker','frequency': '2 times a day'})\n",
    "reports.insert_one({'_id':'p22','issue':'Dislocated Elbow','medical history':'If you have a displaced fracture, which means the two ends of the fracture are not perfectly aligned, your doctor may need to move the fragments back into place. This is known as reduction. Depending on the severity of your pain and swelling, you may require a muscle relaxant, sedative, or local anaesthetic to numb the region before this treatment.','treatment': 'Surgery', 'medicine': 'Angiotensin-2 receptor blocker','frequency': '2 times a day'})\n",
    "reports.insert_one({'_id':'p23','issue':'Dislocated Jaw','medical history':'If you have a displaced fracture, which means the two ends of the fracture are not perfectly aligned, your doctor may need to move the fragments back into place. This is known as reduction. Depending on the severity of your pain and swelling, you may require a muscle relaxant, sedative, or local anaesthetic to numb the region before this treatment.','treatment': 'Surgery', 'medicine': 'Angiotensin-2 receptor blocker','frequency': '2 times a day'})\n",
    "reports.insert_one({'_id':'p24','issue':'Thrombosis','medical history':'The presence or creation of a blood clot in a blood vessel. A vessel can be any vein or artery, as in deep vein thrombosis or coronary (artery) thrombosis. The clot is known as a thrombus.','treatment': 'Surgery', 'medicine': 'Angiotensin-2 receptor blocker','frequency': '2 times a day'})\n",
    "reports.insert_one({'_id':'p25','issue':'Ventricular Thrombosis','medical history':'The presence or creation of a blood clot in a blood vessel. A vessel can be any vein or artery, as in deep vein thrombosis or coronary (artery) thrombosis. The clot is known as a thrombus.','treatment': 'Surgery', 'medicine': 'Angiotensin-2 receptor blocker','frequency': '2 times a day'})\n",
    "reports.insert_one({'_id':'p26','issue':'Tuberculosis','medical history':'Lymph nodes for edoema and lungs noises A skin test is usually performed to confirm the presence of germs. Blood and sputum testing are additional options.','treatment': 'Lymph surgery', 'medicine': 'Angiotensin-2 receptor blocker','frequency': '3 times a day'})\n",
    "reports.insert_one({'_id':'p27','issue':'Muscular dystrophy','medical history':'Changes in the genes that govern muscle stability and function Progressive muscle weakening is one of the most prevalent signs of muscular dystrophy, along with difficulties walking, muscle discomfort, and stiffness.','treatment': 'Muscular scopy', 'medicine': 'Angiotensin-2 receptor blocker','frequency': '3 times a day'})\n",
    "reports.insert_one({'_id':'p28','issue':'Meningitis','medical history':'Loss of appetite, fever, tiredness, lethargy, stiff neck, and headache are all symptoms. Mild infections heal in 2 weeks. In extreme situations, medication and therapy are required. Bacterial or fungal meningitis is usually fatal and necessitates prompt diagnosis and treatment.','treatment': 'Radiation Therapy', 'medicine': 'Angiotensin-2 receptor blocker','frequency': '3 times a day'})\n",
    "reports.insert_one({'_id':'p29','issue':'Melanoma','medical history':'no past issues','report':'Cancer of the skin (melanoma) Melanoma is a kind of skin cancer that has the potential to spread to other organs. The emergence of a new mole or a change in an existing mole is the most typical symptom of melanoma. This may happen everywhere on the body, but the back and legs are the most typically afflicted areas in men.','treatment': 'Radiation Therapy', 'medicine': 'Angiotensin-2 receptor blocker','frequency': '3 times a day'})\n",
    "reports.insert_one({'_id':'p30','issue':'Glaucoma','medical history':'no past issues','report':'With or without increased intraocular pressure, the optic nerve of the eye, which transmits information to the brain, is destroyed. If left untreated, this will result in progressive visual loss.','treatment': 'Laser Therapy', 'medicine': 'Angiotensin-2 receptor blocker','frequency': '3 times a day'})\n",
    "\n"
   ]
  },
  {
   "cell_type": "markdown",
   "id": "16c70192",
   "metadata": {},
   "source": [
    "### Updating the document"
   ]
  },
  {
   "cell_type": "code",
   "execution_count": 257,
   "id": "a9ed6edc",
   "metadata": {},
   "outputs": [
    {
     "data": {
      "text/plain": [
       "<pymongo.results.UpdateResult at 0x132d91ddf70>"
      ]
     },
     "execution_count": 257,
     "metadata": {},
     "output_type": "execute_result"
    }
   ],
   "source": [
    "newvalues = { \"$set\": { \"issue\": 'Cancer','medical history': 'cancer in the past'} }\n",
    "reports.update_one({\"_id\":'p30'}, newvalues)"
   ]
  },
  {
   "cell_type": "code",
   "execution_count": null,
   "id": "35f3ea48",
   "metadata": {},
   "outputs": [],
   "source": []
  },
  {
   "cell_type": "code",
   "execution_count": null,
   "id": "da340392",
   "metadata": {},
   "outputs": [],
   "source": []
  },
  {
   "cell_type": "code",
   "execution_count": 211,
   "id": "1966e256",
   "metadata": {},
   "outputs": [],
   "source": []
  }
 ],
 "metadata": {
  "kernelspec": {
   "display_name": "Python 3 (ipykernel)",
   "language": "python",
   "name": "python3"
  },
  "language_info": {
   "codemirror_mode": {
    "name": "ipython",
    "version": 3
   },
   "file_extension": ".py",
   "mimetype": "text/x-python",
   "name": "python",
   "nbconvert_exporter": "python",
   "pygments_lexer": "ipython3",
   "version": "3.9.7"
  }
 },
 "nbformat": 4,
 "nbformat_minor": 5
}
